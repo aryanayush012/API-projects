{
 "cells": [
  {
   "cell_type": "code",
   "execution_count": 11,
   "metadata": {},
   "outputs": [],
   "source": [
    "import requests\n",
    "from datetime import datetime"
   ]
  },
  {
   "cell_type": "code",
   "execution_count": 12,
   "metadata": {},
   "outputs": [
    {
     "name": "stdout",
     "output_type": "stream",
     "text": [
      "Enter the city name: kishanganj\n"
     ]
    }
   ],
   "source": [
    "# user_api = os.environ['current_weather_data']\n",
    "location = input(\"Enter the city name: \")"
   ]
  },
  {
   "cell_type": "code",
   "execution_count": 13,
   "metadata": {},
   "outputs": [],
   "source": [
    "complete_api_link = \"https://api.openweathermap.org/data/2.5/weather?q=\"+location+\"&appid=7f0e9632b248ba6a112aa9cd5576bdbc\"\n",
    "api_link = requests.get(complete_api_link)\n",
    "api_data = api_link.json()"
   ]
  },
  {
   "cell_type": "code",
   "execution_count": 14,
   "metadata": {},
   "outputs": [],
   "source": [
    "temp_city = ((api_data['main']['temp']) - 273.15)\n",
    "weather_desc = api_data['weather'][0]['description']\n",
    "hmdt = api_data['main']['humidity']\n",
    "wind_spd = api_data['wind']['speed']\n",
    "date_time = datetime.now().strftime(\"%d %b %Y | %I:%M:%S %p\")\n"
   ]
  },
  {
   "cell_type": "code",
   "execution_count": 16,
   "metadata": {},
   "outputs": [
    {
     "name": "stdout",
     "output_type": "stream",
     "text": [
      "-------------------------------------------------------------\n",
      "Weather Stats for - KISHANGANJ  || 26 Feb 2022 | 07:36:23 PM\n",
      "-------------------------------------------------------------\n",
      "Current temperature is: 23.55 ℃\n",
      "Current weather desc  : clear sky\n",
      "Current Humidity      : 35 %\n",
      "Current wind speed    : 2.31 kmph\n"
     ]
    }
   ],
   "source": [
    "print (\"-------------------------------------------------------------\")\n",
    "print (\"Weather Stats for - {}  || {}\".format(location.upper(), date_time))\n",
    "print (\"-------------------------------------------------------------\")\n",
    "\n",
    "print (\"Current temperature is: {:.2f} ℃\".format(temp_city))\n",
    "print (\"Current weather desc  :\",weather_desc)\n",
    "print (\"Current Humidity      :\",hmdt, '%')\n",
    "print (\"Current wind speed    :\",wind_spd ,'kmph')"
   ]
  }
 ],
 "metadata": {
  "kernelspec": {
   "display_name": "Python 3",
   "language": "python",
   "name": "python3"
  },
  "language_info": {
   "codemirror_mode": {
    "name": "ipython",
    "version": 3
   },
   "file_extension": ".py",
   "mimetype": "text/x-python",
   "name": "python",
   "nbconvert_exporter": "python",
   "pygments_lexer": "ipython3",
   "version": "3.8.3"
  }
 },
 "nbformat": 4,
 "nbformat_minor": 4
}
